{
 "cells": [
  {
   "cell_type": "code",
   "execution_count": null,
   "metadata": {
    "collapsed": true
   },
   "outputs": [],
   "source": [
    "import networkx as nx\n",
    "from itertools import islice\n",
    "G = (nx.read_edgelist('edges_new.txt', create_using=nx.DiGraph(), nodetype=int, \n",
    "                      data=(('mode',int), ('cap',float),('flow',float),('len',float),('disu',float))))"
   ]
  },
  {
   "cell_type": "code",
   "execution_count": null,
   "metadata": {},
   "outputs": [],
   "source": [
    "import re\n",
    "f = open('result_0480', 'r')\n",
    "while f:\n",
    "    line = f.readline()\n",
    "    patten = re.compile(r'\\d+')\n",
    "    s1 = patten.findall(line)\n",
    "    s1 = [int(s) for s in s1]\n",
    "    # [274, 275, 279, 234, 235, 286, 287, 331, 344, 346, 349, 373, 376, 480]\n",
    "    for i in range(len(s1)-1):\n",
    "        if G.edges[s1[i], s1[i+1]]['mode'] !=0:\n",
    "            continue\n",
    "        elif G.edges[s1[i], s1[i+1]]['mode'] ==0:\n",
    "            i+=1\n",
    "            if i == (len(s1)-1):\n",
    "                break\n",
    "            elif G.edges[s1[i], s1[i+1]]['mode'] ==0:\n",
    "                valid = False # no print\n",
    "                continue\n",
    "    if valid:\n",
    "        print(1)\n",
    "        with open('valid_test', 'a') as f1:\n",
    "            f1.write(line)\n",
    "\n",
    "            \n"
   ]
  },
  {
   "cell_type": "code",
   "execution_count": null,
   "metadata": {
    "collapsed": true
   },
   "outputs": [],
   "source": []
  },
  {
   "cell_type": "code",
   "execution_count": null,
   "metadata": {
    "collapsed": true
   },
   "outputs": [],
   "source": []
  }
 ],
 "metadata": {
  "kernelspec": {
   "display_name": "Python 3",
   "language": "python",
   "name": "python3"
  },
  "language_info": {
   "codemirror_mode": {
    "name": "ipython",
    "version": 3
   },
   "file_extension": ".py",
   "mimetype": "text/x-python",
   "name": "python",
   "nbconvert_exporter": "python",
   "pygments_lexer": "ipython3",
   "version": "3.6.2"
  }
 },
 "nbformat": 4,
 "nbformat_minor": 2
}
