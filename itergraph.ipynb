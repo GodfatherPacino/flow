{
 "cells": [
  {
   "cell_type": "code",
   "execution_count": 2,
   "metadata": {
    "collapsed": true
   },
   "outputs": [],
   "source": [
    "import networkx as nx\n",
    "from itertools import islice\n",
    "G = (nx.read_edgelist('edges_new.txt', create_using=nx.DiGraph(), nodetype=int, \n",
    "                      data=(('mode',int), ('cap',float),('flow',float),('len',float),('disu',float))))"
   ]
  },
  {
   "cell_type": "code",
   "execution_count": 8,
   "metadata": {},
   "outputs": [
    {
     "ename": "SyntaxError",
     "evalue": "invalid syntax (<ipython-input-8-5cd4d30cdd58>, line 15)",
     "output_type": "error",
     "traceback": [
      "\u001b[1;36m  File \u001b[1;32m\"<ipython-input-8-5cd4d30cdd58>\"\u001b[1;36m, line \u001b[1;32m15\u001b[0m\n\u001b[1;33m    elif ser480(suc_)\u001b[0m\n\u001b[1;37m                     ^\u001b[0m\n\u001b[1;31mSyntaxError\u001b[0m\u001b[1;31m:\u001b[0m invalid syntax\n"
     ]
    }
   ],
   "source": [
    "#list(G.successors(0))\n",
    "def ser480(sr):\n",
    "    sucs = list(G.successors(sr))\n",
    "    for suc in sucs:\n",
    "        if G.edges[sr, suc]['mode'] !=0:\n",
    "            if suc == 480:\n",
    "                return True\n",
    "            ser480(suc)  \n",
    "        elif G.edges[sr, suc]['mode'] ==0:\n",
    "            if G.successors(suc):\n",
    "                sucs1 = list(G.successors(suc))\n",
    "                for suc_ in sucs1:\n",
    "                    if G.edges[suc, suc_]['mode'] ==0:\n",
    "                        continue\n",
    "                    elif ser480(suc_)\n",
    "            else:\n",
    "                return False\n",
    "\n",
    "ser480(0)"
   ]
  },
  {
   "cell_type": "code",
   "execution_count": null,
   "metadata": {
    "collapsed": true
   },
   "outputs": [],
   "source": []
  },
  {
   "cell_type": "code",
   "execution_count": null,
   "metadata": {
    "collapsed": true
   },
   "outputs": [],
   "source": []
  }
 ],
 "metadata": {
  "kernelspec": {
   "display_name": "Python 3",
   "language": "python",
   "name": "python3"
  },
  "language_info": {
   "codemirror_mode": {
    "name": "ipython",
    "version": 3
   },
   "file_extension": ".py",
   "mimetype": "text/x-python",
   "name": "python",
   "nbconvert_exporter": "python",
   "pygments_lexer": "ipython3",
   "version": "3.6.2"
  }
 },
 "nbformat": 4,
 "nbformat_minor": 2
}
