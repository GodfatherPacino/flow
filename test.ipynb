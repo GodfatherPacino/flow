{
 "cells": [
  {
   "cell_type": "markdown",
   "metadata": {
    "collapsed": true
   },
   "source": [
    "## read edges from the file&the k-shortest"
   ]
  },
  {
   "cell_type": "code",
   "execution_count": null,
   "metadata": {
    "collapsed": true
   },
   "outputs": [],
   "source": [
    "import networkx as nx\n",
    "from itertools import islice\n",
    "#G=nx.Graph()\n",
    "#create_using=nx.DiGraph(),\n",
    "G = nx.read_edgelist('edges_new.txt', create_using=nx.DiGraph(), nodetype=int, data=(('mode',int), ('cap',float),('flow',float),('len',float),('disu',float)))\n",
    "#print(G.edges.data())\n",
    "print(list(G.edges.data())[0])"
   ]
  },
  {
   "cell_type": "code",
   "execution_count": null,
   "metadata": {
    "collapsed": true
   },
   "outputs": [],
   "source": [
    "def k_shortest_paths(G, source, target, k, weight=None):\n",
    "    return list(islice(nx.shortest_simple_paths(G, source, target, weight='disu'), k))\n",
    "    \n",
    "source = 0\n",
    "target = 480\n",
    "Paths = k_shortest_paths(G, source, target, 3)\n",
    "_3weights=[]\n",
    "for path in Paths:\n",
    "    sum=float(0)\n",
    "    for i in range(len(path)-1):\n",
    "        weight=G.edges[path[i],path[i+1]]['disu']\n",
    "        sum=sum+weight\n",
    "    print (sum)\n",
    "    _3weights.append(sum)\n",
    "print (_3weights)\n",
    "sum = 0\n",
    "for i in range(len(_3weights)):\n",
    "    sum+=_3weights[i]\n",
    "ave1=sum / len(_3weights)\n",
    "print (ave1)"
   ]
  },
  {
   "cell_type": "code",
   "execution_count": null,
   "metadata": {
    "collapsed": true
   },
   "outputs": [],
   "source": [
    "import math\n",
    "def flow_allocation(Flow,weights):\n",
    "    c =  [ 0 for _ in range(len(weights))]\n",
    "    sum = 0\n",
    "    for i in range(len(weights)):\n",
    "        c[i] = math.exp(-0.005*weights[i])\n",
    "        sum += c[i]\n",
    "    flow = [ 0 for _ in range(len(weights))]\n",
    "    for i in range(len(weights)):\n",
    "        flow[i] = Flow * c[i] / sum\n",
    "    return flow\n",
    "\n",
    "\n",
    "weight_paths = []\n",
    "for path in Paths:\n",
    "    weight_path = []\n",
    "    for i in range(len(path)-1):\n",
    "        weight_path.append(G.edges[path[i],path[i+1]]['disu'])\n",
    "    weight_paths.append(weight_path)\n"
   ]
  },
  {
   "cell_type": "markdown",
   "metadata": {},
   "source": [
    "## Add node attributes"
   ]
  },
  {
   "cell_type": "code",
   "execution_count": null,
   "metadata": {
    "collapsed": true
   },
   "outputs": [],
   "source": [
    "import re\n",
    "fh=open(\"expandnode2_forweight.txt\", \"r\")\n",
    "srs=fh.readlines()\n",
    "for sr in srs:\n",
    "    sr_1=re.split('\\s', sr)\n",
    "    #print(sr_1)\n",
    "    a=int(sr_1[0])\n",
    "    b=float(sr_1[1])\n",
    "    c=float(sr_1[2])\n",
    "    G.add_node(a, Loc=b, Tra=c)\n",
    "\n",
    "# print(G.nodes[0][\"Loc\"])\n",
    "# print(G.nodes.data())\n",
    "#alst = list(G.edges.data())\n",
    "#print(alst[0][2])"
   ]
  },
  {
   "cell_type": "markdown",
   "metadata": {},
   "source": [
    "## Update the weight"
   ]
  },
  {
   "cell_type": "markdown",
   "metadata": {},
   "source": [
    "两个不同的起点到同一个终点6条\n",
    "58\n",
    "两次循环之间，最短路权值平均值<0.1"
   ]
  },
  {
   "cell_type": "code",
   "execution_count": null,
   "metadata": {
    "collapsed": true
   },
   "outputs": [],
   "source": [
    "import math\n",
    "def Update_path():\n",
    "    for i in range(len(path)-1):\n",
    "        if G.edges[path[i], path[i+1]]['mode'] ==1:\n",
    "            veh=12\n",
    "            t0=G.edges[path[i],path[i+1]]['len'] / veh\n",
    "            weight= 10*t0+20*2/60+15*0.2*t0+0.1*math.pow(t0,2)\n",
    "            G.add_edge(path[i], path[i+1], disu=weight)\n",
    "            \n",
    "        if G.edges[path[i], path[i+1]]['mode'] ==2:\n",
    "            veh=48\n",
    "            t0=G.edges[path[i],path[i+1]]['len'] / veh\n",
    "            k = (G.edges[path[i],path[i+1]]['flow']/G.edges[path[i], path[i+1]]['cap'] \n",
    "                 +4*10/G.edges[path[i], path[i+1]]['cap'])\n",
    "            weight = 10*t0+(10+20)*t0*0.15*math.pow(k, 4)+20*11/60\n",
    "            G.add_edge(path[i], path[i+1], disu=weight)\n",
    "            \n",
    "        if G.edges[path[i], path[i+1]]['mode'] ==3:\n",
    "            j=1\n",
    "            for link in list(G.edges.data()):\n",
    "                #print(link)\n",
    "                #print(link[0])\n",
    "                p=link[0]\n",
    "                q=link[1]\n",
    "                if (link[2]['mode']==2 and G.node[p]['Loc'] == G.node[path[i]]['Loc'] \n",
    "                    and G.node[q]['Loc']==G.node[path[i+1]]['Loc'] and \n",
    "                    G.node[q]['Tra'] == G.node[path[i+1]]['Tra']):\n",
    "                    j += 1\n",
    "                    print(j)\n",
    "                    veh=25\n",
    "                    t0=G.edges[path[i],path[i+1]]['len'] / veh\n",
    "                    k = G.edges[p, q]['flow'] / G.edges[p, q]['cap']+4*10/G.edges[p, q]['cap']\n",
    "                    weight = (10*t0+10*t0*0.15*math.pow(k, 4)+20*0.5/10+20*2/60+\n",
    "                              20*G.edges[path[i],path[i+1]]['flow']/250+2)\n",
    "                    G.add_edge(path[i], path[i+1], disu=weight)\n",
    "                                                                                 \n",
    "        if G.edges[path[i], path[i+1]]['mode'] ==4:\n",
    "            t0 = 3 / 60                                                                    \n",
    "            weight = 10 * t0 + 20*0.5/10+20*5/60+20*G.edges[path[i],path[i+1]]['flow']/30000+3\n",
    "            G.add_edge(path[i], path[i+1], disu=weight)\n",
    "                                                        \n",
    "        if G.edges[path[i], path[i+1]]['mode'] ==0:\n",
    "            if G.nodes[path[i]]['Tra'] != G.nodes[path[i+1]]['Tra']:\n",
    "                weight = 20*5/60\n",
    "                G.add_edge(path[i], path[i+1], disu=weight)\n",
    "            else:\n",
    "                weight = 0\n",
    "                G.add_edge(path[i], path[i+1], disu=weight)\n",
    "    return "
   ]
  },
  {
   "cell_type": "code",
   "execution_count": null,
   "metadata": {
    "collapsed": true
   },
   "outputs": [],
   "source": [
    "#print(_3weights)\n",
    "Flow_paths_sum = flow_allocation(1200, _3weights)       #3条最短路各自对应流量\n",
    "\n",
    "#print(Flow_paths_sum)\n",
    "Flow_paths=[]              #把每条路每部分的流量计算出来，三条路都存在列表中\n",
    "for i in range(len(Paths)):\n",
    "    Flow_paths.append(flow_allocation(Flow_paths_sum[i], weight_paths[i]))\n",
    "j=0\n",
    "for path in Paths:\n",
    "    for i in range(len(path)-1):\n",
    "        #G.add_edge(path[i],path[i+1],flow = Flow_paths[j][i])\n",
    "        G.add_edge(path[i],path[i+1],flow = Flow_paths_sum[j])   #按照一条路的流量\n",
    "    j+=1\n",
    "\n",
    "#print (weight_paths)\n",
    "# s1 = []\n",
    "# for path in Paths:\n",
    "#     for i in range(len(path)-1):\n",
    "#         s1.append(G.edges[path[i],path[i+1]]['disu'])\n",
    "\n",
    "# s2 = []\n",
    "# for path in Paths:\n",
    "#     Update_path()\n",
    "#     for i in range(len(path)-1):\n",
    "#         s2.append(G.edges[path[i],path[i+1]]['disu'])"
   ]
  },
  {
   "cell_type": "code",
   "execution_count": null,
   "metadata": {
    "collapsed": true
   },
   "outputs": [],
   "source": [
    "for path in Paths:\n",
    "    Update_path()\n",
    "    #更新每一条路的权值\n",
    "\n",
    "# for path in Paths:\n",
    "#     for i in range(len(path)-1):\n",
    "#         weight=G.edges[path[i],path[i+1]]['disu']\n",
    "#         sum=sum+weight\n",
    "#     _3weights.append(sum)\n",
    "#     #更新3条路的总权值\n",
    "# Flow_paths_sum = flow_allocation(1200, _3weights)       #3条最短路各自对应权值\n",
    "Paths_new = k_shortest_paths(G, source, target, 3)\n",
    "_3weights=[]\n",
    "for path in Paths_new:\n",
    "    print (len(path))\n",
    "    print (path)\n",
    "    sum=float(0)\n",
    "    for i in range(len(path)-1):\n",
    "        weight=G.edges[path[i],path[i+1]]['disu']\n",
    "        sum=sum+weight\n",
    "    print (sum)\n",
    "    _3weights.append(sum)\n",
    "print (_3weights)\n",
    "sum = 0\n",
    "for i in range(len(_3weights)):\n",
    "    sum+=_3weights[i]\n",
    "ave2=sum / len(_3weights)\n",
    "print (ave2)\n",
    "print(ave2-ave1)"
   ]
  },
  {
   "cell_type": "code",
   "execution_count": null,
   "metadata": {
    "collapsed": true
   },
   "outputs": [],
   "source": [
    "while math.fabs(ave2-ave1) >= 0.5:\n",
    "    #重新分配流量\n",
    "    Flow_paths_sum = flow_allocation(1200, _3weights) \n",
    "    \n",
    "    Flow_paths=[]              #把每条路每部分的流量计算出来，三条路都存在列表中\n",
    "#     weight_paths_new= []\n",
    "#     for path in Paths_new:\n",
    "#         weight_path_new= []\n",
    "#         for i in range(len(path)-1):\n",
    "#             weight_path_new.append(G.edges[path[i],path[i+1]]['disu'])\n",
    "#         weight_paths_new.append(weight_path_new)\n",
    "#     for i in range(len(Paths_new)):\n",
    "#         Flow_paths.append(flow_allocation(Flow_paths_sum[i], weight_paths_new[i]))\n",
    "    j=0\n",
    "    for path in Paths_new:\n",
    "        for i in range(len(path)-1):\n",
    "            #G.add_edge(path[i],path[i+1],flow = Flow_paths[j][i])\n",
    "            G.add_edge(path[i],path[i+1],flow = Flow_paths_sum[j])\n",
    "        j+=1\n",
    "    #根据新的流量，计算新的权值并更新\n",
    "    for path in Paths_new:\n",
    "        Update_path()\n",
    "    #比较差值\n",
    "    ave1=ave2\n",
    "    Paths_new = k_shortest_paths(G, source, target, 3)\n",
    "    _3weights=[]\n",
    "    for path in Paths_new:\n",
    "        print (len(path))\n",
    "        print (path)\n",
    "        sum=float(0)\n",
    "        for i in range(len(path)-1):\n",
    "            weight=G.edges[path[i],path[i+1]]['disu']\n",
    "            sum=sum+weight\n",
    "        print (sum)\n",
    "        _3weights.append(sum)\n",
    "    print (_3weights)\n",
    "    sum = 0\n",
    "    for i in range(len(_3weights)):\n",
    "        sum+=_3weights[i]\n",
    "    ave2=sum / len(_3weights)\n",
    "    \n",
    "print(ave2-ave1)\n",
    "\n",
    "#转换flow数据类型\n",
    "for edge in list(G.edges.data()):\n",
    "    tem = edge[2]['flow']\n",
    "    tem1=int(tem)\n",
    "    G.add_edge(edge[0], edge[1], flow=tem1)\n",
    "\n",
    "# j=0\n",
    "# m0 = 0\n",
    "# m1 = 0\n",
    "# m2 = 0\n",
    "# m3 = 0\n",
    "# m4 = 0\n",
    "# for path in Paths_new:\n",
    "#     for i in range(len(path)-1):\n",
    "#         if G.edges[path[i], path[i+1]]['mode'] == 0:\n",
    "#             m0 += G.edges[path[i], path[i+1]]['flow']\n",
    "#         elif G.edges[path[i], path[i+1]]['mode'] == 1:\n",
    "#             m1 += G.edges[path[i], path[i+1]]['flow']\n",
    "#         elif G.edges[path[i], path[i+1]]['mode'] == 2:\n",
    "#             m2 += G.edges[path[i], path[i+1]]['flow']\n",
    "#         elif G.edges[path[i], path[i+1]]['mode'] == 3:\n",
    "#             m3 += G.edges[path[i], path[i+1]]['flow']\n",
    "#         elif G.edges[path[i], path[i+1]]['mode'] == 4:\n",
    "#             m4 += G.edges[path[i], path[i+1]]['flow']\n",
    "# print(m0, m1,m2,m3,m4)\n",
    "\n",
    "j=0\n",
    "for path in Paths_new:\n",
    "    print ('最短路路长度',len(path))\n",
    "    print ('最短路路径',path)\n",
    "    print ('该路总权重',_3weights[j])\n",
    "    print ('该路总流量', Flow_paths_sum[j])\n",
    "    w = []\n",
    "    f = []\n",
    "    for i in range(len(path)-1):\n",
    "        w.append(G.edges[path[i],path[i+1]]['disu'])\n",
    "        f.append(G.edges[path[i],path[i+1]]['flow'])\n",
    "    print('每条边权重',w)\n",
    "    print('每条边流量',f)\n",
    "    \n",
    "    "
   ]
  },
  {
   "cell_type": "code",
   "execution_count": null,
   "metadata": {
    "collapsed": true
   },
   "outputs": [],
   "source": [
    "\n"
   ]
  },
  {
   "cell_type": "code",
   "execution_count": null,
   "metadata": {
    "collapsed": true
   },
   "outputs": [],
   "source": []
  }
 ],
 "metadata": {
  "kernelspec": {
   "display_name": "Python 3",
   "language": "python",
   "name": "python3"
  },
  "language_info": {
   "codemirror_mode": {
    "name": "ipython",
    "version": 3
   },
   "file_extension": ".py",
   "mimetype": "text/x-python",
   "name": "python",
   "nbconvert_exporter": "python",
   "pygments_lexer": "ipython3",
   "version": "3.6.2"
  }
 },
 "nbformat": 4,
 "nbformat_minor": 2
}
